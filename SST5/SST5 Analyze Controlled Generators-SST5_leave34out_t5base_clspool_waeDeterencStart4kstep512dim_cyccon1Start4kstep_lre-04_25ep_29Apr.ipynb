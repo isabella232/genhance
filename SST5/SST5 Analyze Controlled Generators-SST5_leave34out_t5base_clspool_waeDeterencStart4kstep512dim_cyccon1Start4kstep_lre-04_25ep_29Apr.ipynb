{
 "cells": [
  {
   "cell_type": "code",
   "execution_count": 1,
   "id": "aquatic-space",
   "metadata": {},
   "outputs": [],
   "source": [
    "import torch\n",
    "# from transformers import MT5ForConditionalGeneration, MT5Config, MT5EncoderModel, MT5Tokenizer, Trainer, TrainingArguments\n",
    "\n",
    "# from transformers_custom import MT5ForConditionalGenerationWithLatentSpace\n",
    "# from progeny_tokenizer import TAPETokenizer\n",
    "\n",
    "from transformers_custom import T5ForConditionalGenerationWithLatentSpace, T5Tokenizer, T5Config\n",
    "import numpy as np\n",
    "import math\n",
    "import random\n",
    "import scipy\n",
    "import scipy.stats\n",
    "import time\n",
    "import pandas as pd\n",
    "from torch.utils.data import DataLoader, RandomSampler, Dataset, BatchSampler\n",
    "import typing\n",
    "from pathlib import Path\n",
    "import argparse\n",
    "\n",
    "from tqdm import tqdm, trange\n",
    "import shutil\n",
    "\n",
    "try:\n",
    "    from torch.utils.tensorboard import SummaryWriter\n",
    "except ImportError:\n",
    "    from tensorboardX import SummaryWriter\n",
    "\n",
    "import os\n",
    "\n",
    "import matplotlib.pyplot as plt"
   ]
  },
  {
   "cell_type": "code",
   "execution_count": 2,
   "id": "deb76063",
   "metadata": {},
   "outputs": [],
   "source": [
    "train_omitted_labels = [3, 4]"
   ]
  },
  {
   "cell_type": "code",
   "execution_count": 3,
   "id": "clinical-advancement",
   "metadata": {},
   "outputs": [],
   "source": [
    "tokenizer_pretrained_dir = \"t5-base\"\n",
    "seed = 30\n",
    "data_dir = \"data/sst\"\n",
    "pretrained_dir = \"/export/share/alvinchan/models/SST5/congen/SST5_leave34out_t5base_clspool_waeDeterencStart4kstep512dim_cyccon1Start4kstep_lre-04_25ep/\""
   ]
  },
  {
   "cell_type": "code",
   "execution_count": 4,
   "id": "described-sleeve",
   "metadata": {},
   "outputs": [],
   "source": [
    "# src_json = '/export/share/bkrause/progen/progeny/t5_base_uniref_bfd50/config.json'\n",
    "# shutil.copy(src_json, pretrained_dir)"
   ]
  },
  {
   "cell_type": "code",
   "execution_count": 5,
   "id": "opponent-vehicle",
   "metadata": {},
   "outputs": [],
   "source": [
    "np.random.seed(seed)\n",
    "random.seed(seed)\n",
    "torch.manual_seed(seed)\n",
    "\n",
    "# output_dir = Path(\"/export/share/alvinchan/models/SST5/congen/analysis/SST5_leave34out_t5base_clspool_waeDeterencStart4kstep512dim_cyccon1Start4kstep_lre-04_25ep/\")\n",
    "# output_dir.mkdir(parents=True, exist_ok=True)\n",
    "\n",
    "# tokenizer = TAPETokenizer(vocab=\"progeny\")\n",
    "tokenizer = T5Tokenizer.from_pretrained(tokenizer_pretrained_dir)\n",
    "\n",
    "device = torch.device('cuda:0')\n",
    "\n",
    "# t5config = MT5Config.from_pretrained(pretrained_dir)\n"
   ]
  },
  {
   "cell_type": "code",
   "execution_count": 6,
   "id": "engaged-soldier",
   "metadata": {},
   "outputs": [
    {
     "name": "stdout",
     "output_type": "stream",
     "text": [
      "model_dim:  768\n",
      "config.d_model:  768\n"
     ]
    }
   ],
   "source": [
    "latent_space_args = {\n",
    "    'latent_pooler': 'cls',\n",
    "    'pool_enc_hidden_states_for_dec': True,\n",
    "    'latent_space_type': 'wae',\n",
    "    'mask_non_target_z_vector': False,\n",
    "    'separate_targetattr_head': False,\n",
    "    'z_tar_vector_dim': 1,\n",
    "    'do_mi': False,\n",
    "    'latent_size': 768,\n",
    "    'wae_z_enc_type': 'deterministic',\n",
    "    'separate_latent_enc': False,\n",
    "    'separate_latent_dec': False,\n",
    "}\n",
    "\n",
    "model = T5ForConditionalGenerationWithLatentSpace.from_pretrained(pretrained_dir, **latent_space_args)\n",
    "\n",
    "model.parallelize()"
   ]
  },
  {
   "cell_type": "markdown",
   "id": "third-diameter",
   "metadata": {},
   "source": [
    "# Evaluate Generator's ddG predictions"
   ]
  },
  {
   "cell_type": "code",
   "execution_count": 7,
   "id": "apart-bahrain",
   "metadata": {},
   "outputs": [],
   "source": [
    "# train_ratio=0.9\n",
    "per_device_train_batch_size = 16\n",
    "per_device_eval_batch_size = 64"
   ]
  },
  {
   "cell_type": "code",
   "execution_count": 8,
   "id": "f9aed756",
   "metadata": {},
   "outputs": [],
   "source": [
    "TEXT_COL, LABEL_COL = 'text', 'truth'\n",
    "\n",
    "def read_sst5(data_dir, colnames=[LABEL_COL, TEXT_COL]):\n",
    "    datasets = {}\n",
    "    for t in [\"train\", \"dev\", \"test\"]:\n",
    "        df = pd.read_csv(os.path.join(data_dir, f\"sst_{t}.txt\"), sep='\\t', header=None, names=colnames)\n",
    "        df[LABEL_COL] = df[LABEL_COL].str.replace('__label__', '')\n",
    "        df[LABEL_COL] = df[LABEL_COL].astype(int)   # Categorical data type for truth labels\n",
    "        df[LABEL_COL] = df[LABEL_COL] - 1  # Zero-index labels for PyTorch\n",
    "        df[TEXT_COL] = df[TEXT_COL].str.replace(\"`\", \"'\") # handle T5Tokenizer's inability to tokenize `, tokenizes it as <unk>\n",
    "        datasets[t] = df\n",
    "    return datasets\n",
    "\n",
    "\n",
    "class TextDFDatasetForGen(Dataset):\n",
    "    \"\"\"Creates a dataset from an df file.\n",
    "    Args:\n",
    "        data_file (typing.Union[str, Path]): Path to pkl df file.\n",
    "        in_memory (bool, optional): Whether to load the full dataset into memory.\n",
    "            Default: False.\n",
    "    \"\"\"\n",
    "\n",
    "    def __init__(self,\n",
    "                df,\n",
    "                in_memory: bool = False,\n",
    "                split: str = None,\n",
    "                train_ratio: float = 1,\n",
    "                omitted_labels=None,\n",
    "                ):\n",
    "        \n",
    "        if omitted_labels is not None:\n",
    "            df = df.loc[~df['truth'].isin(omitted_labels)]\n",
    "\n",
    "        if train_ratio != 1 and split != None:\n",
    "            shuffled_df = df.sort_index()\n",
    "            # shuffled_df = df.sample(frac=1)\n",
    "            train_num_samples = int(len(shuffled_df) * train_ratio)\n",
    "            if split == 'train':\n",
    "                final_df = shuffled_df.iloc[:train_num_samples]\n",
    "            elif split == 'valid':\n",
    "                final_df = shuffled_df.iloc[train_num_samples:]\n",
    "            else:\n",
    "                final_df = df\n",
    "        else:\n",
    "            final_df = df\n",
    "\n",
    "        self.df = final_df\n",
    "        num_examples = len(final_df)\n",
    "        self._num_examples = num_examples\n",
    "        \n",
    "        if in_memory:\n",
    "            cache = [None] * num_examples\n",
    "            self._cache = cache\n",
    "            \n",
    "        self._in_memory = in_memory\n",
    "\n",
    "        \n",
    "    def __len__(self) -> int:\n",
    "        return self._num_examples\n",
    "\n",
    "    def __getitem__(self, index: int):\n",
    "        if not 0 <= index < self._num_examples:\n",
    "            raise IndexError(index)\n",
    "\n",
    "        if self._in_memory and self._cache[index] is not None:\n",
    "            item = self._cache[index]\n",
    "        else:\n",
    "            row = self.df.iloc[index]\n",
    "            item = {}\n",
    "            item['sentiment_scores'] = row['truth'] \n",
    "            item['input_ids'] = row['text']\n",
    "            item['labels'] = row['text']\n",
    "\n",
    "            item['id'] = str(index)\n",
    "            if self._in_memory:\n",
    "                self._cache[index] = item\n",
    "            \n",
    "        return item\n",
    "\n",
    "def pad_sequences(sequences: typing.Sequence, constant_value=0, dtype=None) -> np.ndarray:\n",
    "    batch_size = len(sequences)\n",
    "    shape = [batch_size] + np.max([seq.shape for seq in sequences], 0).tolist()\n",
    "\n",
    "    if dtype is None:\n",
    "        dtype = sequences[0].dtype\n",
    "\n",
    "    if isinstance(sequences[0], np.ndarray):\n",
    "        array = np.full(shape, constant_value, dtype=dtype)\n",
    "    elif isinstance(sequences[0], torch.Tensor):\n",
    "        array = torch.full(shape, constant_value, dtype=dtype)\n",
    "\n",
    "    for arr, seq in zip(array, sequences):\n",
    "        arrslice = tuple(slice(dim) for dim in seq.shape)\n",
    "        arr[arrslice] = seq\n",
    "\n",
    "    return array\n",
    "\n",
    "\n",
    "class CustomTextDatasetForGenLatentSpace(Dataset):\n",
    "\n",
    "    def __init__(self,\n",
    "                df,\n",
    "                tokenizer,\n",
    "                split: str,\n",
    "                in_memory: bool = False,\n",
    "                train_ratio: float = 1,\n",
    "                omitted_labels = None, # list of label to omit from dataset\n",
    "                prepended_cls_token='<extra_id_0>',\n",
    "                ):\n",
    "\n",
    "        self.tokenizer = tokenizer\n",
    "\n",
    "        if split == 'valid':\n",
    "            file_prefix = 'train'\n",
    "        else:\n",
    "            file_prefix = split\n",
    "\n",
    "        self.data = TextDFDatasetForGen(df, in_memory, split, train_ratio, omitted_labels=omitted_labels)\n",
    "        self.omitted_labels = omitted_labels\n",
    "\n",
    "        if prepended_cls_token is not None:\n",
    "            self.prepended_cls_token_id = self.tokenizer.encode(prepended_cls_token)[0]\n",
    "        else:\n",
    "            self.prepended_cls_token_id = None\n",
    "\n",
    "    def __len__(self) -> int:\n",
    "        return len(self.data)\n",
    "\n",
    "    def __getitem__(self, index: int):\n",
    "        item = self.data[index]\n",
    "        input_ids = self.tokenizer.encode(item['input_ids'])\n",
    "        labels = self.tokenizer.encode(item['labels'])\n",
    "\n",
    "\n",
    "        if self.prepended_cls_token_id is not None:\n",
    "            input_ids = [self.prepended_cls_token_id] + input_ids\n",
    "            labels = [self.prepended_cls_token_id] + labels\n",
    "\n",
    "        \n",
    "        input_ids = np.array(input_ids, np.int64)\n",
    "        labels = np.array(labels, np.int64)\n",
    "        \n",
    "        sentiment_scores = item['sentiment_scores']\n",
    "#         print(\"__getitem__input_ids: \", input_ids)\n",
    "#         print(\"__getitem__labels: \", labels)\n",
    "#         print(\"__getitem__sentiment_scores: \", sentiment_scores)\n",
    "        \n",
    "#         print(\"__getitem__input_ids type: \", type(input_ids))\n",
    "#         print(\"__getitem__labels type: \", type(labels))\n",
    "#         print(\"__getitem__sentiment_scores : \", type(sentiment_scores))\n",
    "        \n",
    "#         np.array(token_ids, np.int64)\n",
    "        return input_ids, labels, sentiment_scores\n",
    "\n",
    "    \n",
    "    def collate_fn(self, batch: typing.List[typing.Tuple[typing.Any, ...]]) -> typing.Dict[str, torch.Tensor]:\n",
    "        input_ids, labels, sentiment_scores = tuple(zip(*batch))\n",
    "        # print(\"input_ids: \", input_ids)\n",
    "        # print(\"input_ids len: \", len(input_ids))\n",
    "        # print(\"input_ids[0].shape: \", input_ids[0].shape)\n",
    "        # print(\"input_ids[1].shape: \", input_ids[1].shape)\n",
    "#         print(\"labels: \", labels)\n",
    "#         print(\"sentiment_scores: \", sentiment_scores)\n",
    "        input_ids = torch.from_numpy(pad_sequences(input_ids, 0))\n",
    "        labels = torch.from_numpy(pad_sequences(labels, 0))\n",
    "        sentiment_scores = torch.Tensor(sentiment_scores)\n",
    "\n",
    "        return {'input_ids': input_ids,\n",
    "                'labels': labels,\n",
    "                'sentiment_scores': sentiment_scores}\n",
    "\n"
   ]
  },
  {
   "cell_type": "code",
   "execution_count": 9,
   "id": "revised-african",
   "metadata": {},
   "outputs": [],
   "source": [
    "# class PKLDFDatasetForGen(Dataset):\n",
    "#     \"\"\"Creates a dataset from an pkl df file.\n",
    "#     Args:\n",
    "#         data_file (typing.Union[str, Path]): Path to pkl df file.\n",
    "#         in_memory (bool, optional): Whether to load the full dataset into memory.\n",
    "#             Default: False.\n",
    "#     \"\"\"\n",
    "\n",
    "#     def __init__(self,\n",
    "#                 data_file: typing.Union[str, Path],\n",
    "#                 in_memory: bool = False,\n",
    "#                 split: str = 'train',\n",
    "#                 train_ratio: float = 1,\n",
    "#                 train_data_file: str = '250K_ddG_split/train_ddG.pkl',\n",
    "#                 data_subset='full'\n",
    "#                 ):\n",
    "\n",
    "#         data_file = Path(data_file)\n",
    "#         if not data_file.exists():\n",
    "#             raise FileNotFoundError(data_file)\n",
    "        \n",
    "#         df = pd.read_pickle(data_file)\n",
    "        \n",
    "#         if train_ratio != 1:\n",
    "#             shuffled_df = df.sort_index()\n",
    "#             # shuffled_df = df.sample(frac=1)\n",
    "#             train_num_samples = int(len(shuffled_df) * train_ratio)\n",
    "#             if split == 'train':\n",
    "#                 final_df = shuffled_df.iloc[:train_num_samples]\n",
    "#             elif split == 'valid':\n",
    "#                 final_df = shuffled_df.iloc[train_num_samples:]\n",
    "#             else:\n",
    "#                 final_df = df\n",
    "#         else:\n",
    "#             final_df = df\n",
    "        \n",
    "#         # split into subset if not full training set\n",
    "#         if data_subset != 'full':\n",
    "#             ddG_sorted_final_df = final_df.sort_values(by='ddG', ascending=True)\n",
    "#             train_subset_num_samples = int( data_subset * len(ddG_sorted_final_df) ) \n",
    "#             final_df = ddG_sorted_final_df.iloc[:train_subset_num_samples]\n",
    "\n",
    "#         print(\"split: \", split)\n",
    "#         print(\"data_file: \", data_file)\n",
    "#         print(\"len(final_df): \", len(final_df))\n",
    "\n",
    "#         self.df = final_df\n",
    "#         num_examples = len(final_df)\n",
    "#         self._num_examples = num_examples\n",
    "        \n",
    "#         if in_memory:\n",
    "#             cache = [None] * num_examples\n",
    "#             self._cache = cache\n",
    "            \n",
    "#         self._in_memory = in_memory\n",
    "\n",
    "        \n",
    "#     def __len__(self) -> int:\n",
    "#         return self._num_examples\n",
    "\n",
    "#     def __getitem__(self, index: int):\n",
    "#         if not 0 <= index < self._num_examples:\n",
    "#             raise IndexError(index)\n",
    "\n",
    "#         if self._in_memory and self._cache[index] is not None:\n",
    "#             item = self._cache[index]\n",
    "#         else:\n",
    "#             row = self.df.iloc[index]\n",
    "#             item = {}\n",
    "#             item['ddG'] = row['ddG'] #!\n",
    "#             item['input_ids'] = row['MT_seq'] #!\n",
    "#             item['labels'] = row['MT_seq']\n",
    "\n",
    "#             item['id'] = str(index)\n",
    "#             if self._in_memory:\n",
    "#                 self._cache[index] = item\n",
    "            \n",
    "#         return item\n",
    "\n",
    "# def pad_sequences(sequences: typing.Sequence, constant_value=0, dtype=None) -> np.ndarray:\n",
    "#     batch_size = len(sequences)\n",
    "#     shape = [batch_size] + np.max([seq.shape for seq in sequences], 0).tolist()\n",
    "\n",
    "#     if dtype is None:\n",
    "#         dtype = sequences[0].dtype\n",
    "\n",
    "#     if isinstance(sequences[0], np.ndarray):\n",
    "#         array = np.full(shape, constant_value, dtype=dtype)\n",
    "#     elif isinstance(sequences[0], torch.Tensor):\n",
    "#         array = torch.full(shape, constant_value, dtype=dtype)\n",
    "\n",
    "#     for arr, seq in zip(array, sequences):\n",
    "#         arrslice = tuple(slice(dim) for dim in seq.shape)\n",
    "#         arr[arrslice] = seq\n",
    "\n",
    "#     return array\n",
    "\n",
    "# class CustomStabilityDatasetForGenLatentSpace(Dataset):\n",
    "\n",
    "#     def __init__(self,\n",
    "#                 data_path: typing.Union[str, Path],\n",
    "#                 split: str,\n",
    "#                 tokenizer: typing.Union[str, TAPETokenizer] = 'iupac',\n",
    "#                 in_memory: bool = False,\n",
    "#                 train_ratio: float = 1,\n",
    "#                 normalize_targets: bool = False,\n",
    "#                 data_subset='full'):\n",
    "\n",
    "#         # if split not in ('train', 'valid', 'test'):\n",
    "#         #     raise ValueError(f\"Unrecognized split: {split}. \"\n",
    "#         #                     f\"Must be one of ['train', 'valid', 'test']\")\n",
    "#         if isinstance(tokenizer, str):\n",
    "#             tokenizer = TAPETokenizer(vocab=tokenizer)\n",
    "#         self.tokenizer = tokenizer\n",
    "\n",
    "#         if split == 'valid':\n",
    "#             file_prefix = 'train'\n",
    "#         else:\n",
    "#             file_prefix = split\n",
    "            \n",
    "#         data_path = Path(data_path)\n",
    "#         data_file = f'{file_prefix}_ddG.pkl' \n",
    "\n",
    "#         self.data = PKLDFDatasetForGen(data_path / data_file, in_memory, split, train_ratio, data_subset='full')\n",
    "\n",
    "#     def __len__(self) -> int:\n",
    "#         return len(self.data)\n",
    "\n",
    "#     def __getitem__(self, index: int):\n",
    "#         item = self.data[index]\n",
    "#         input_ids = self.tokenizer.encode(item['input_ids']) \n",
    "#         labels = self.tokenizer.encode(item['labels'])\n",
    "#         ddG = item['ddG']\n",
    "#         return input_ids, labels, ddG\n",
    "\n",
    "    \n",
    "#     def collate_fn(self, batch: typing.List[typing.Tuple[typing.Any, ...]]) -> typing.Dict[str, torch.Tensor]:\n",
    "#         input_ids, labels, ddG = tuple(zip(*batch))\n",
    "#         input_ids = torch.from_numpy(pad_sequences(input_ids, 0))\n",
    "#         labels = torch.from_numpy(pad_sequences(labels, 0))\n",
    "#         ddG = torch.Tensor(ddG)\n",
    "\n",
    "#         return {'input_ids': input_ids,\n",
    "#                 'labels': labels,\n",
    "\n",
    "#                 'ddG': ddG}"
   ]
  },
  {
   "cell_type": "code",
   "execution_count": 10,
   "id": "a1afb127",
   "metadata": {},
   "outputs": [],
   "source": [
    "if train_omitted_labels is not None:\n",
    "    train_omitted_labels = [int(train_omitted_label) for train_omitted_label in train_omitted_labels]\n",
    "else:\n",
    "    train_omitted_labels = None"
   ]
  },
  {
   "cell_type": "code",
   "execution_count": 11,
   "id": "invalid-consolidation",
   "metadata": {},
   "outputs": [
    {
     "name": "stderr",
     "output_type": "stream",
     "text": [
      "  0%|          | 0/309 [00:00<?, ?it/s]\n",
      "  0%|          | 0/11 [00:00<?, ?it/s]\u001b[A"
     ]
    }
   ],
   "source": [
    "datasets = read_sst5(data_dir)\n",
    "\n",
    "train_dataset = CustomTextDatasetForGenLatentSpace(datasets['train'], tokenizer=tokenizer, split=None, omitted_labels=train_omitted_labels)\n",
    "# eval_dataset = CustomTextDatasetForGenLatentSpace(datasets['dev'], tokenizer=tokenizer, split=None)\n",
    "# if train_omitted_labels != None:\n",
    "eval_dataset = CustomTextDatasetForGenLatentSpace(datasets['dev'], tokenizer=tokenizer, split=None, omitted_labels=train_omitted_labels)\n",
    "\n",
    "\n",
    "# train_dataset = CustomStabilityDatasetForGenLatentSpace(data_dir, 'train', train_ratio=train_ratio, tokenizer=tokenizer)\n",
    "# eval_dataset = CustomStabilityDatasetForGenLatentSpace(data_dir, 'valid', train_ratio=train_ratio, tokenizer=tokenizer)\n",
    "\n",
    "\n",
    "\n",
    "\n",
    "# Train data set-up\n",
    "train_loader = DataLoader(train_dataset, batch_size=per_device_train_batch_size, shuffle=True, \n",
    "                        num_workers=0, collate_fn=train_dataset.collate_fn)\n",
    "\n",
    "train_loader = tqdm(train_loader)\n",
    "\n",
    "# Eval data set-up\n",
    "eval_loader = DataLoader(eval_dataset, batch_size=per_device_eval_batch_size, shuffle=False, \n",
    "                        num_workers=0, collate_fn=train_dataset.collate_fn)\n",
    "\n",
    "\n",
    "eval_loader = tqdm(eval_loader)"
   ]
  },
  {
   "cell_type": "code",
   "execution_count": 12,
   "id": "extended-recipe",
   "metadata": {},
   "outputs": [],
   "source": [
    "def spearmanr(target, prediction):\n",
    "    target_array = np.asarray(target)\n",
    "    prediction_array = np.asarray(prediction)\n",
    "    print(\"target_array.shape: \", target_array.shape)\n",
    "    print(\"prediction_array.shape: \", prediction_array.shape)\n",
    "    return scipy.stats.spearmanr(target_array, prediction_array).correlation"
   ]
  },
  {
   "cell_type": "code",
   "execution_count": 13,
   "id": "92ef1043",
   "metadata": {},
   "outputs": [],
   "source": [
    "\n",
    "def evaluate(model, eval_iterator, do_mi=False, do_contrast_spearmanr=True, latent_space_type='plain', return_pred=False):\n",
    "    eval_contrastive_loss_total = 0\n",
    "    eval_lm_loss_total = 0\n",
    "    eval_same_label_loss_total = 0\n",
    "    if do_mi:\n",
    "        eval_mi_head_loss_total = 0\n",
    "    if latent_space_type in ['vae', 'wae']:\n",
    "        eval_z_regu_loss_total = 0\n",
    "    model.eval()\n",
    "    num_eval_batch = 0\n",
    "    \n",
    "    contrast_preds=[]\n",
    "    contrast_targs = []\n",
    "\n",
    "    with torch.no_grad():\n",
    "        for step, batch in enumerate(eval_iterator):\n",
    "            \n",
    "            input_ids = batch['input_ids'].to(model.device)\n",
    "            labels = batch['labels'].to(model.device)\n",
    "            contrast_targets = batch['sentiment_scores'].to(model.device)\n",
    "    \n",
    "            # if do_mi:\n",
    "            #     model_outputs = model(input_ids, labels=labels, contrast_targets=contrast_targets)\n",
    "            #     outputs, contrastive_loss, contrastive_value, mi_head_loss = model_outputs[0], model_outputs[1], model_outputs[2], model_outputs[3]\n",
    "            #     eval_mi_head_loss_total = eval_mi_head_loss_total + mi_head_loss\n",
    "            # else:\n",
    "            #     model_outputs = model(input_ids, labels=labels, contrast_targets=contrast_targets)\n",
    "            #     outputs, contrastive_loss, contrastive_value = model_outputs[0], model_outputs[1], model_outputs[2]\n",
    "                        \n",
    "            if do_mi:\n",
    "                model_outputs = model(input_ids, labels=labels, contrast_targets=contrast_targets, mask_similar_contrast_label=True, return_same_label_loss=True)\n",
    "                #!\n",
    "                outputs, contrastive_loss, contrastive_value, mi_head_loss = model_outputs[0], model_outputs[1], model_outputs[2], model_outputs[4]\n",
    "                # outputs, contrastive_loss, contrastive_value, mi_head_loss = model_outputs[0], model_outputs[1], model_outputs[2], model_outputs[3]\n",
    "                eval_mi_head_loss_total = eval_mi_head_loss_total + mi_head_loss\n",
    "            else:\n",
    "                model_outputs = model(input_ids, labels=labels, contrast_targets=contrast_targets, mask_similar_contrast_label=True, return_same_label_loss=True)\n",
    "                outputs, contrastive_loss, contrastive_value = model_outputs[0], model_outputs[1], model_outputs[2]\n",
    "            \n",
    "            same_label_loss = model_outputs[3]\n",
    "            eval_same_label_loss_total = eval_same_label_loss_total + same_label_loss\n",
    "\n",
    "            if latent_space_type in ['vae', 'wae']:\n",
    "                z_regu_output = model_outputs[-1]\n",
    "                if type(z_regu_output) is dict:\n",
    "                    z_regu_loss = z_regu_output['z_regu_loss']\n",
    "                else:\n",
    "                    z_regu_loss = z_regu_output\n",
    "                # z_regu_loss = model_outputs[-1]\n",
    "\n",
    "            for pred, target in zip(contrastive_value.squeeze().cpu().numpy(), contrast_targets.cpu().numpy()):\n",
    "#                 print(\"target: \", target)\n",
    "#                 print(\"pred: \", pred)\n",
    "                contrast_targs.append(target)\n",
    "                contrast_preds.append(pred)\n",
    "\n",
    "            lm_loss = outputs.loss\n",
    "            \n",
    "            eval_contrastive_loss_total = eval_contrastive_loss_total + contrastive_loss\n",
    "            eval_lm_loss_total = eval_lm_loss_total + lm_loss\n",
    "\n",
    "            if latent_space_type in ['vae', 'wae']:\n",
    "                eval_z_regu_loss_total = eval_z_regu_loss_total + z_regu_loss\n",
    "            \n",
    "            # eval_contrastive_losses.append(contrastive_loss)\n",
    "            # eval_lm_losses.append(lm_loss)\n",
    "\n",
    "            num_eval_batch += 1\n",
    "\n",
    "#             if step == 5:\n",
    "#                 break\n",
    "\n",
    "    # eval_contrastive_loss = torch.mean(eval_contrastive_losses)\n",
    "    # eval_lm_loss = torch.mean(eval_lm_losses)\n",
    "    eval_lm_loss = eval_lm_loss_total / num_eval_batch\n",
    "    eval_contrastive_loss = eval_contrastive_loss_total / num_eval_batch\n",
    "    eval_same_label_loss = eval_same_label_loss_total / num_eval_batch\n",
    "    eval_output = {\n",
    "                \"lm_loss\": eval_lm_loss,\n",
    "                \"contrastive_loss\": eval_contrastive_loss,\n",
    "                \"same_label_loss\": eval_same_label_loss,\n",
    "                  }\n",
    "\n",
    "    if do_mi:\n",
    "        eval_mi_head_loss_total = eval_mi_head_loss_total / num_eval_batch\n",
    "        eval_output['mi_head_loss'] = eval_mi_head_loss_total\n",
    "\n",
    "    if latent_space_type in ['vae', 'wae']:\n",
    "        eval_z_regu_loss_total = eval_z_regu_loss_total / num_eval_batch\n",
    "        eval_output['z_regu_loss'] = eval_z_regu_loss_total\n",
    "\n",
    "    if do_contrast_spearmanr:\n",
    "        spearmanr_value = spearmanr(contrast_targs, contrast_preds)\n",
    "        print(\"spearmanr_value: \", spearmanr_value)\n",
    "        eval_output['spearmanr'] = spearmanr_value\n",
    "    \n",
    "    if return_pred:\n",
    "        eval_output['contrast_preds'] = contrast_preds\n",
    "        eval_output['contrast_targs'] = contrast_targs\n",
    "\n",
    "\n",
    "    # print(\"eval_contrastive_loss: \", eval_contrastive_loss)\n",
    "    # print(\"eval_lm_loss: \", eval_lm_loss)\n",
    "    return eval_output"
   ]
  },
  {
   "cell_type": "code",
   "execution_count": 14,
   "id": "guilty-bangkok",
   "metadata": {},
   "outputs": [],
   "source": [
    "   \n",
    "# def evaluate(model, eval_iterator, do_mi=False, do_ddG_spearmanr=True, latent_space_type='plain', return_pred=False):\n",
    "#     eval_contrastive_loss_total = 0\n",
    "#     eval_lm_loss_total = 0\n",
    "#     if do_mi:\n",
    "#         eval_mi_head_loss_total = 0\n",
    "#     if latent_space_type == 'vae':\n",
    "#         eval_kl_loss_total = 0\n",
    "#     model.eval()\n",
    "#     num_eval_batch = 0\n",
    "    \n",
    "#     contrast_preds=[]\n",
    "#     contrast_targs = []\n",
    "\n",
    "#     with torch.no_grad():\n",
    "#         for step, batch in enumerate(eval_iterator):\n",
    "            \n",
    "#             input_ids = batch['input_ids'].to(model.device)\n",
    "#             labels = batch['labels'].to(model.device)\n",
    "#             ddG_targets = batch['ddG'].to(model.device)\n",
    "            \n",
    "#             if do_mi:\n",
    "#                 model_outputs = model(input_ids, labels=labels, contrast_targets=ddG_targets)\n",
    "#                 outputs, contrastive_loss, contrastive_value, mi_head_loss = model_outputs[0], model_outputs[1], model_outputs[2], model_outputs[3]\n",
    "#                 eval_mi_head_loss_total = eval_mi_head_loss_total + mi_head_loss\n",
    "#             else:\n",
    "#                 model_outputs = model(input_ids, labels=labels, contrast_targets=ddG_targets)\n",
    "#                 outputs, contrastive_loss, contrastive_value = model_outputs[0], model_outputs[1], model_outputs[2]\n",
    "            \n",
    "#             if latent_space_type == 'vae':\n",
    "#                 kl_loss = model_outputs[-1]\n",
    "\n",
    "#             for pred, target in zip(contrastive_value.squeeze().cpu().numpy(), ddG_targets.cpu().numpy()):\n",
    "# #                 print(\"target: \", target)\n",
    "# #                 print(\"pred: \", pred)\n",
    "#                 contrast_targs.append(target)\n",
    "#                 contrast_preds.append(pred)\n",
    "\n",
    "#             lm_loss = outputs.loss\n",
    "            \n",
    "#             eval_contrastive_loss_total = eval_contrastive_loss_total + contrastive_loss\n",
    "#             eval_lm_loss_total = eval_lm_loss_total + lm_loss\n",
    "\n",
    "#             if latent_space_type == 'vae':\n",
    "#                 eval_kl_loss_total = eval_kl_loss_total + kl_loss\n",
    "            \n",
    "#             # eval_contrastive_losses.append(contrastive_loss)\n",
    "#             # eval_lm_losses.append(lm_loss)\n",
    "\n",
    "#             num_eval_batch += 1\n",
    "\n",
    "# #             if step == 5:\n",
    "# #                 break\n",
    "\n",
    "#     # eval_contrastive_loss = torch.mean(eval_contrastive_losses)\n",
    "#     # eval_lm_loss = torch.mean(eval_lm_losses)\n",
    "#     eval_lm_loss = eval_lm_loss_total / num_eval_batch\n",
    "#     eval_contrastive_loss = eval_contrastive_loss_total / num_eval_batch\n",
    "#     eval_output = {\n",
    "#                 \"lm_loss\": eval_lm_loss,\n",
    "#                 \"contrastive_loss\": eval_contrastive_loss,\n",
    "#                   }\n",
    "\n",
    "#     if do_mi:\n",
    "#         eval_mi_head_loss_total = eval_mi_head_loss_total / num_eval_batch\n",
    "#         eval_output['mi_head_loss'] = eval_mi_head_loss_total\n",
    "\n",
    "#     if latent_space_type == 'vae':\n",
    "#         eval_kl_loss_total = eval_kl_loss_total / num_eval_batch\n",
    "#         eval_output['kl_loss'] = eval_kl_loss_total\n",
    "\n",
    "#     if do_ddG_spearmanr:\n",
    "#         spearmanr_value = spearmanr(contrast_targs, contrast_preds)\n",
    "#         print(\"spearmanr_value: \", spearmanr_value)\n",
    "#         eval_output['spearmanr'] = spearmanr_value\n",
    "    \n",
    "#     if return_pred:\n",
    "#         eval_output['contrast_preds'] = contrast_preds\n",
    "#         eval_output['contrast_targs'] = contrast_targs\n",
    "\n",
    "\n",
    "#     # print(\"eval_contrastive_loss: \", eval_contrastive_loss)\n",
    "#     # print(\"eval_lm_loss: \", eval_lm_loss)\n",
    "#     return eval_output"
   ]
  },
  {
   "cell_type": "code",
   "execution_count": 15,
   "id": "29c35237",
   "metadata": {},
   "outputs": [
    {
     "data": {
      "text/plain": [
       "<module 'scipy' from '/opt/conda/lib/python3.8/site-packages/scipy/__init__.py'>"
      ]
     },
     "execution_count": 15,
     "metadata": {},
     "output_type": "execute_result"
    }
   ],
   "source": [
    "scipy"
   ]
  },
  {
   "cell_type": "code",
   "execution_count": 16,
   "id": "extreme-thought",
   "metadata": {
    "scrolled": true
   },
   "outputs": [
    {
     "name": "stderr",
     "output_type": "stream",
     "text": [
      "\n",
      "  9%|▉         | 1/11 [00:00<00:09,  1.09it/s]\u001b[A\n",
      " 18%|█▊        | 2/11 [00:01<00:06,  1.47it/s]\u001b[A\n",
      " 27%|██▋       | 3/11 [00:01<00:04,  1.95it/s]\u001b[A\n",
      " 36%|███▋      | 4/11 [00:01<00:02,  2.52it/s]\u001b[A\n",
      " 45%|████▌     | 5/11 [00:01<00:01,  3.16it/s]\u001b[A\n",
      " 55%|█████▍    | 6/11 [00:01<00:01,  3.85it/s]\u001b[A\n",
      " 64%|██████▎   | 7/11 [00:01<00:00,  4.52it/s]\u001b[A\n",
      " 73%|███████▎  | 8/11 [00:01<00:00,  5.18it/s]\u001b[A\n",
      " 82%|████████▏ | 9/11 [00:01<00:00,  5.76it/s]\u001b[A\n",
      "100%|██████████| 11/11 [00:02<00:00,  5.15it/s]\u001b[A"
     ]
    },
    {
     "name": "stdout",
     "output_type": "stream",
     "text": [
      "target_array.shape:  (657,)\n",
      "prediction_array.shape:  (657,)\n",
      "spearmanr_value:  0.5348357328821676\n"
     ]
    },
    {
     "name": "stderr",
     "output_type": "stream",
     "text": [
      "\n"
     ]
    }
   ],
   "source": [
    "eval_output = evaluate(model, eval_loader, do_mi=latent_space_args['do_mi'], return_pred=True, latent_space_type=latent_space_args['latent_space_type'])"
   ]
  },
  {
   "cell_type": "code",
   "execution_count": 17,
   "id": "lesser-gazette",
   "metadata": {},
   "outputs": [
    {
     "name": "stdout",
     "output_type": "stream",
     "text": [
      "eval_lm_loss:  tensor(1.1406, device='cuda:0')\n",
      "eval_contrastive_loss:  tensor(0.6713, device='cuda:0')\n",
      "eval_spearmanr_value:  0.5348357328821676\n"
     ]
    }
   ],
   "source": [
    "eval_lm_loss, eval_contrastive_loss, eval_spearmanr_value = eval_output['lm_loss'], eval_output['contrastive_loss'], eval_output['spearmanr']\n",
    "\n",
    "print(\"eval_lm_loss: \", eval_lm_loss)\n",
    "print(\"eval_contrastive_loss: \", eval_contrastive_loss)\n",
    "print(\"eval_spearmanr_value: \", eval_spearmanr_value)"
   ]
  },
  {
   "cell_type": "code",
   "execution_count": 18,
   "id": "obvious-inventory",
   "metadata": {},
   "outputs": [
    {
     "name": "stdout",
     "output_type": "stream",
     "text": [
      "len(contrast_preds):  657\n",
      "len(contrast_targs):  657\n"
     ]
    }
   ],
   "source": [
    "contrast_preds, contrast_targs = eval_output['contrast_preds'], eval_output['contrast_targs']\n",
    "\n",
    "print(\"len(contrast_preds): \", len(contrast_preds))\n",
    "print(\"len(contrast_targs): \", len(contrast_targs))"
   ]
  },
  {
   "cell_type": "code",
   "execution_count": 19,
   "id": "numerical-twelve",
   "metadata": {},
   "outputs": [
    {
     "name": "stdout",
     "output_type": "stream",
     "text": [
      "stats of contrast_preds\n",
      "min:  -6.8263764\n",
      "mean:  0.3948272\n",
      "median:  0.1617689\n",
      "max:  6.211132\n",
      "std:  2.546925\n"
     ]
    }
   ],
   "source": [
    "print(\"stats of contrast_preds\")\n",
    "print(\"min: \", np.min(contrast_preds))\n",
    "print(\"mean: \", np.mean(contrast_preds))\n",
    "print(\"median: \", np.median(contrast_preds))\n",
    "print(\"max: \", np.max(contrast_preds))\n",
    "print(\"std: \", np.std(contrast_preds))"
   ]
  },
  {
   "cell_type": "code",
   "execution_count": 20,
   "id": "0ec8ec27",
   "metadata": {},
   "outputs": [
    {
     "name": "stdout",
     "output_type": "stream",
     "text": [
      "label_class:  0\n",
      "min:  -6.826376438140869\n",
      "mean:  -1.3957487537706499\n",
      "median:  -1.2337995767593384\n",
      "max:  4.412775039672852\n",
      "std:  2.079097325827524\n",
      "label_class:  1\n",
      "min:  -5.435760974884033\n",
      "mean:  -0.14142401649046263\n",
      "median:  -0.2100384384393692\n",
      "max:  5.974160671234131\n",
      "std:  2.093464434124091\n",
      "label_class:  2\n",
      "min:  -4.495410919189453\n",
      "mean:  2.158437005126255\n",
      "median:  2.164503812789917\n",
      "max:  6.211132049560547\n",
      "std:  2.2442571063622627\n",
      "label_class:  3\n",
      "no sample for this class\n",
      "label_class:  4\n",
      "no sample for this class\n",
      "mean_diffs:  [1.2543247372801873, 2.2998610216167177]\n"
     ]
    },
    {
     "data": {
      "image/png": "[encoded data removed]",
      "text/plain": [
       "<Figure size 576x432 with 1 Axes>"
      ]
     },
     "metadata": {
      "needs_background": "light"
     },
     "output_type": "display_data"
    }
   ],
   "source": [
    "eval_df = pd.DataFrame()\n",
    "eval_df['contrast_preds'] = contrast_preds\n",
    "eval_df['contrast_targs'] = contrast_targs\n",
    "\n",
    "label_list = [i for i in range(5)]\n",
    "mean_list = []\n",
    "\n",
    "plt.figure(figsize=(8,6))\n",
    "\n",
    "\n",
    "for label_class in label_list:\n",
    "    class_df = eval_df.loc[eval_df['contrast_targs'] == label_class]\n",
    "    print(\"label_class: \", label_class)\n",
    "    if len(class_df) == 0:\n",
    "        print(\"no sample for this class\")\n",
    "        continue\n",
    "    class_pred_list = class_df['contrast_preds'].tolist()\n",
    "    class_mean_pred = np.mean(class_pred_list)\n",
    "    mean_list.append(class_mean_pred)\n",
    "    print(\"min: \", np.min(class_pred_list))\n",
    "    print(\"mean: \", np.mean(class_pred_list))\n",
    "    print(\"median: \", np.median(class_pred_list))\n",
    "    print(\"max: \", np.max(class_pred_list))\n",
    "    print(\"std: \", np.std(class_pred_list))\n",
    "    plt.hist(class_pred_list, density=True, label='Class #{}'.format(label_class), bins=[i for i in range(-7, 7)], alpha=0.2)\n",
    "\n",
    "plt.xlabel(\"pred\", size=14)\n",
    "plt.ylabel(\"Density\", size=14)\n",
    "plt.title(\"Eval\")\n",
    "plt.legend(loc='upper left')\n",
    "\n",
    "\n",
    "mean_diffs = []\n",
    "prev_mean = None\n",
    "for class_mean in mean_list:\n",
    "    if prev_mean == None:\n",
    "        prev_mean = class_mean\n",
    "        continue\n",
    "    else:\n",
    "        mean_diff = class_mean - prev_mean\n",
    "        mean_diffs.append(mean_diff)\n",
    "        prev_mean = class_mean\n",
    "        \n",
    "print(\"mean_diffs: \", mean_diffs)"
   ]
  },
  {
   "cell_type": "code",
   "execution_count": 21,
   "id": "aquatic-retro",
   "metadata": {},
   "outputs": [
    {
     "data": {
      "text/plain": [
       "<matplotlib.legend.Legend at 0x7f6bf4732460>"
      ]
     },
     "execution_count": 21,
     "metadata": {},
     "output_type": "execute_result"
    },
    {
     "data": {
      "image/png": "[encoded data removed]",
      "text/plain": [
       "<Figure size 576x432 with 1 Axes>"
      ]
     },
     "metadata": {
      "needs_background": "light"
     },
     "output_type": "display_data"
    }
   ],
   "source": [
    "plt.figure(figsize=(8,6))\n",
    "plt.hist(contrast_preds, density=True, label='value_pred', bins=[i for i in range(-20, 10)], alpha=0.4)\n",
    "\n",
    "\n",
    "plt.hist(contrast_targs, density=True, label='ddG', bins=[i for i in range(-20, 10)], alpha=0.4)\n",
    "plt.xlabel(\"ddG\", size=14)\n",
    "plt.ylabel(\"Density\", size=14)\n",
    "plt.title(\"Eval set, Controlled generation SST5_leave34out_t5base_clspool_waeDeterencStart4kstep512dim_cyccon1Start4kstep_lre-04_25ep\")\n",
    "plt.legend(loc='upper left')"
   ]
  },
  {
   "cell_type": "code",
   "execution_count": 22,
   "id": "above-millennium",
   "metadata": {},
   "outputs": [],
   "source": [
    "eval_df = pd.DataFrame()"
   ]
  },
  {
   "cell_type": "code",
   "execution_count": 23,
   "id": "inappropriate-depression",
   "metadata": {},
   "outputs": [],
   "source": [
    "eval_df['value_pred'] = contrast_preds\n",
    "eval_df['ddG'] = contrast_targs"
   ]
  },
  {
   "cell_type": "code",
   "execution_count": 24,
   "id": "respected-ireland",
   "metadata": {},
   "outputs": [],
   "source": [
    "eval_df = eval_df.sort_values(by='value_pred', ascending=True)"
   ]
  },
  {
   "cell_type": "code",
   "execution_count": 25,
   "id": "literary-payday",
   "metadata": {},
   "outputs": [
    {
     "name": "stdout",
     "output_type": "stream",
     "text": [
      "[32, 65, 98, 131, 164]\n"
     ]
    }
   ],
   "source": [
    "# topK_list = [10, 100, 1000, 10000]\n",
    "percentile_list = [95, 90, 85, 80, 75]\n",
    "topK_list = [len(eval_df)*(100-i)//100 for i in percentile_list]\n",
    "print(topK_list)"
   ]
  },
  {
   "cell_type": "code",
   "execution_count": 26,
   "id": "stable-ultimate",
   "metadata": {},
   "outputs": [],
   "source": [
    "ddG_df = eval_df\n",
    "all_ddG_list = eval_df['ddG']"
   ]
  },
  {
   "cell_type": "code",
   "execution_count": 27,
   "id": "damaged-conditioning",
   "metadata": {
    "scrolled": true
   },
   "outputs": [
    {
     "name": "stdout",
     "output_type": "stream",
     "text": [
      "top K:  32\n",
      "max:  2.0\n",
      "min:  0.0\n",
      "mean:  0.5\n",
      "median:  0.0\n",
      "PCI_95pct:  0.0\n",
      "PCI_90pct:  0.0\n",
      "PCI_85pct:  0.0\n",
      "PCI_80pct:  0.0\n",
      "PCI_75pct:  0.53125\n",
      "PCI_WT:  0.0\n",
      "____________________\n",
      "top K:  65\n",
      "max:  2.0\n",
      "min:  0.0\n",
      "mean:  0.5384615384615384\n",
      "median:  1.0\n",
      "PCI_95pct:  0.0\n",
      "PCI_90pct:  0.0\n",
      "PCI_85pct:  0.0\n",
      "PCI_80pct:  0.0\n",
      "PCI_75pct:  0.49230769230769234\n",
      "PCI_WT:  0.0\n",
      "____________________\n",
      "top K:  98\n",
      "max:  2.0\n",
      "min:  0.0\n",
      "mean:  0.5510204081632653\n",
      "median:  0.0\n",
      "PCI_95pct:  0.0\n",
      "PCI_90pct:  0.0\n",
      "PCI_85pct:  0.0\n",
      "PCI_80pct:  0.0\n",
      "PCI_75pct:  0.5102040816326531\n",
      "PCI_WT:  0.0\n",
      "____________________\n",
      "top K:  131\n",
      "max:  2.0\n",
      "min:  0.0\n",
      "mean:  0.6183206106870229\n",
      "median:  1.0\n",
      "PCI_95pct:  0.0\n",
      "PCI_90pct:  0.0\n",
      "PCI_85pct:  0.0\n",
      "PCI_80pct:  0.0\n",
      "PCI_75pct:  0.4580152671755725\n",
      "PCI_WT:  0.0\n",
      "____________________\n",
      "top K:  164\n",
      "max:  2.0\n",
      "min:  0.0\n",
      "mean:  0.676829268292683\n",
      "median:  1.0\n",
      "PCI_95pct:  0.0\n",
      "PCI_90pct:  0.0\n",
      "PCI_85pct:  0.0\n",
      "PCI_80pct:  0.0\n",
      "PCI_75pct:  0.42073170731707316\n",
      "PCI_WT:  0.0\n",
      "____________________\n",
      "top half:  328\n",
      "max:  2.0\n",
      "min:  0.0\n",
      "mean:  0.7957317073170732\n",
      "median:  1.0\n",
      "PCI_95pct:  0.0\n",
      "PCI_90pct:  0.0\n",
      "PCI_85pct:  0.0\n",
      "PCI_80pct:  0.0\n",
      "PCI_75pct:  0.34146341463414637\n",
      "PCI_WT:  0.0\n",
      "____________________\n",
      "train dataset:  657\n",
      "max:  2.0\n",
      "min:  0.0\n",
      "mean:  1.1369863013698631\n",
      "median:  1.0\n",
      "PCI_95pct:  0.0\n",
      "PCI_90pct:  0.0\n",
      "PCI_85pct:  0.0\n",
      "PCI_80pct:  0.0\n",
      "PCI_75pct:  0.2115677321156773\n",
      "PCI_WT:  0.0\n",
      "____________________\n"
     ]
    }
   ],
   "source": [
    "for topK in topK_list:\n",
    "    topK_df = ddG_df[:topK]\n",
    "    print(\"top K: \", len(topK_df))\n",
    "    print(\"max: \", np.max(topK_df['ddG']))\n",
    "    print(\"min: \", np.min(topK_df['ddG']))\n",
    "    print(\"mean: \", np.mean(topK_df['ddG']))\n",
    "    print(\"median: \", np.median(topK_df['ddG']))\n",
    "    \n",
    "    for percentile in percentile_list:\n",
    "        pct = np.percentile(all_ddG_list, 100-percentile)\n",
    "        PCI_pct = np.sum(topK_df['ddG'] < pct) / len(topK_df['ddG'])\n",
    "        print(\"PCI_{}pct: \".format(percentile), PCI_pct)\n",
    "    \n",
    "    PCI_WT = np.sum(topK_df['ddG'] < 0) / len(topK_df['ddG'])\n",
    "    print(\"PCI_WT: \", PCI_WT)\n",
    "    \n",
    "    print(\"_\"*20)\n",
    "    \n",
    "tophalf_df = ddG_df[:len(ddG_df)//2]\n",
    "print(\"top half: \", len(tophalf_df))\n",
    "print(\"max: \", np.max(tophalf_df['ddG']))\n",
    "print(\"min: \", np.min(tophalf_df['ddG']))\n",
    "print(\"mean: \", np.mean(tophalf_df['ddG']))\n",
    "print(\"median: \", np.median(tophalf_df['ddG']))\n",
    "\n",
    "\n",
    "# PCI_75pct = np.sum(tophalf_df['ddG'] < train_75pct) / len(tophalf_df['ddG'])\n",
    "# print(\"PCI_75pct: \", PCI_75pct)\n",
    "\n",
    "for percentile in percentile_list:\n",
    "    pct = np.percentile(all_ddG_list, 100-percentile)\n",
    "    PCI_pct = np.sum(tophalf_df['ddG'] < pct) / len(tophalf_df['ddG'])\n",
    "    print(\"PCI_{}pct: \".format(percentile), PCI_pct)\n",
    "\n",
    "\n",
    "PCI_WT = np.sum(tophalf_df['ddG'] < 0) / len(tophalf_df['ddG'])\n",
    "print(\"PCI_WT: \", PCI_WT)\n",
    "\n",
    "print(\"_\"*20)\n",
    "\n",
    "\n",
    "# training data distribution\n",
    "print(\"train dataset: \", len(all_ddG_list))\n",
    "print(\"max: \", np.max(all_ddG_list))\n",
    "print(\"min: \", np.min(all_ddG_list))\n",
    "print(\"mean: \", np.mean(all_ddG_list))\n",
    "print(\"median: \", np.median(all_ddG_list))\n",
    "\n",
    "\n",
    "for percentile in percentile_list:\n",
    "    pct = np.percentile(all_ddG_list, 100-percentile)\n",
    "    PCI_pct = np.sum(all_ddG_list < pct) / len(all_ddG_list)\n",
    "    print(\"PCI_{}pct: \".format(percentile), PCI_pct)\n",
    "\n",
    "\n",
    "PCI_WT = np.sum(all_ddG_list < 0) / len(all_ddG_list)\n",
    "print(\"PCI_WT: \", PCI_WT)\n",
    "\n",
    "print(\"_\"*20)"
   ]
  },
  {
   "cell_type": "markdown",
   "id": "furnished-reach",
   "metadata": {},
   "source": [
    "# Get value_pred of train data"
   ]
  },
  {
   "cell_type": "code",
   "execution_count": 28,
   "id": "genetic-puzzle",
   "metadata": {
    "scrolled": true
   },
   "outputs": [
    {
     "name": "stderr",
     "output_type": "stream",
     "text": [
      "100%|██████████| 309/309 [00:23<00:00, 13.00it/s]"
     ]
    },
    {
     "name": "stdout",
     "output_type": "stream",
     "text": [
      "target_array.shape:  (4934,)\n",
      "prediction_array.shape:  (4934,)\n",
      "spearmanr_value:  0.928635583479985\n"
     ]
    },
    {
     "name": "stderr",
     "output_type": "stream",
     "text": [
      "\n"
     ]
    }
   ],
   "source": [
    "train_eval_output = evaluate(model, train_loader, do_mi=latent_space_args['do_mi'], return_pred=True,  latent_space_type=latent_space_args['latent_space_type'])\n",
    "# eval_output = evaluate(model, eval_loader, do_mi=latent_space_args['do_mi'], return_pred=True, latent_space_type=latent_space_args['latent_space_type'])"
   ]
  },
  {
   "cell_type": "code",
   "execution_count": 29,
   "id": "apart-rebound",
   "metadata": {},
   "outputs": [
    {
     "name": "stdout",
     "output_type": "stream",
     "text": [
      "train_lm_loss:  tensor(0.9177, device='cuda:0')\n",
      "train_contrastive_loss:  tensor(0.0138, device='cuda:0')\n",
      "train_spearmanr_value:  0.928635583479985\n"
     ]
    }
   ],
   "source": [
    "train_lm_loss, train_contrastive_loss, train_spearmanr_value = train_eval_output['lm_loss'], train_eval_output['contrastive_loss'], train_eval_output['spearmanr']\n",
    "\n",
    "print(\"train_lm_loss: \", train_lm_loss)\n",
    "print(\"train_contrastive_loss: \", train_contrastive_loss)\n",
    "print(\"train_spearmanr_value: \", train_spearmanr_value)"
   ]
  },
  {
   "cell_type": "code",
   "execution_count": 30,
   "id": "restricted-drink",
   "metadata": {},
   "outputs": [
    {
     "name": "stdout",
     "output_type": "stream",
     "text": [
      "len(train_contrast_preds):  4934\n",
      "len(train_contrast_targs):  4934\n"
     ]
    }
   ],
   "source": [
    "train_contrast_preds, train_contrast_targs = train_eval_output['contrast_preds'], train_eval_output['contrast_targs']\n",
    "\n",
    "print(\"len(train_contrast_preds): \", len(train_contrast_preds))\n",
    "print(\"len(train_contrast_targs): \", len(train_contrast_targs))"
   ]
  },
  {
   "cell_type": "code",
   "execution_count": 31,
   "id": "final-porter",
   "metadata": {},
   "outputs": [
    {
     "name": "stdout",
     "output_type": "stream",
     "text": [
      "stats of contrast_preds, train set\n",
      "min:  -6.9219007\n",
      "mean:  0.28920713\n",
      "median:  -0.18580833\n",
      "max:  6.6132064\n",
      "std:  3.4957438\n"
     ]
    }
   ],
   "source": [
    "print(\"stats of contrast_preds, train set\")\n",
    "print(\"min: \", np.min(train_contrast_preds))\n",
    "print(\"mean: \", np.mean(train_contrast_preds))\n",
    "print(\"median: \", np.median(train_contrast_preds))\n",
    "print(\"max: \", np.max(train_contrast_preds))\n",
    "print(\"std: \", np.std(train_contrast_preds))"
   ]
  },
  {
   "cell_type": "code",
   "execution_count": 32,
   "id": "considerable-platform",
   "metadata": {},
   "outputs": [
    {
     "data": {
      "text/plain": [
       "<matplotlib.legend.Legend at 0x7f6bf45e3460>"
      ]
     },
     "execution_count": 32,
     "metadata": {},
     "output_type": "execute_result"
    },
    {
     "data": {
      "image/png": "[encoded data removed]",
      "text/plain": [
       "<Figure size 576x432 with 1 Axes>"
      ]
     },
     "metadata": {
      "needs_background": "light"
     },
     "output_type": "display_data"
    }
   ],
   "source": [
    "plt.figure(figsize=(8,6))\n",
    "plt.hist(train_contrast_preds, density=True, label='value_pred', bins=[i for i in range(-20, 10)], alpha=0.4)\n",
    "\n",
    "\n",
    "plt.hist(train_contrast_targs, density=True, label='ddG', bins=[i for i in range(-20, 10)], alpha=0.4)\n",
    "plt.xlabel(\"ddG\", size=14)\n",
    "plt.ylabel(\"Density\", size=14)\n",
    "plt.title(\"Train set, Controlled generation SST5_leave34out_t5base_clspool_waeDeterencStart4kstep512dim_cyccon1Start4kstep_lre-04_25ep\")\n",
    "plt.legend(loc='upper left')"
   ]
  },
  {
   "cell_type": "code",
   "execution_count": 33,
   "id": "separated-retreat",
   "metadata": {},
   "outputs": [
    {
     "name": "stdout",
     "output_type": "stream",
     "text": [
      "label_class:  0\n",
      "min:  -6.921900749206543\n",
      "mean:  -4.694745743121857\n",
      "median:  -4.704269170761108\n",
      "max:  -1.6315938234329224\n",
      "std:  0.9475917518107335\n",
      "label_class:  1\n",
      "min:  -4.97348165512085\n",
      "mean:  -0.3653714493099399\n",
      "median:  -0.3463742285966873\n",
      "max:  2.8700761795043945\n",
      "std:  0.6116788950165138\n",
      "label_class:  2\n",
      "min:  1.5053719282150269\n",
      "mean:  4.534485381738893\n",
      "median:  4.593065977096558\n",
      "max:  6.613206386566162\n",
      "std:  0.8379923118177243\n",
      "label_class:  3\n",
      "no sample for this class\n",
      "label_class:  4\n",
      "no sample for this class\n",
      "mean_diffs:  [4.329374293811917, 4.899856831048833]\n"
     ]
    },
    {
     "data": {
      "image/png": "[encoded data removed]",
      "text/plain": [
       "<Figure size 576x432 with 1 Axes>"
      ]
     },
     "metadata": {
      "needs_background": "light"
     },
     "output_type": "display_data"
    }
   ],
   "source": [
    "train_df = pd.DataFrame()\n",
    "train_df['train_contrast_preds'] = train_contrast_preds\n",
    "train_df['train_contrast_targs'] = train_contrast_targs\n",
    "\n",
    "label_list = [i for i in range(5)]\n",
    "mean_list = []\n",
    "\n",
    "plt.figure(figsize=(8,6))\n",
    "\n",
    "\n",
    "for label_class in label_list:\n",
    "    class_df = train_df.loc[train_df['train_contrast_targs'] == label_class]\n",
    "    print(\"label_class: \", label_class)\n",
    "    if len(class_df) == 0:\n",
    "        print(\"no sample for this class\")\n",
    "        continue\n",
    "    class_pred_list = class_df['train_contrast_preds'].tolist()\n",
    "    class_mean_pred = np.mean(class_pred_list)\n",
    "    mean_list.append(class_mean_pred)\n",
    "    print(\"min: \", np.min(class_pred_list))\n",
    "    print(\"mean: \", np.mean(class_pred_list))\n",
    "    print(\"median: \", np.median(class_pred_list))\n",
    "    print(\"max: \", np.max(class_pred_list))\n",
    "    print(\"std: \", np.std(class_pred_list))\n",
    "    plt.hist(class_pred_list, density=True, label='Class #{}'.format(label_class), bins=[i for i in range(-7, 7)], alpha=0.2)\n",
    "\n",
    "plt.xlabel(\"pred\", size=14)\n",
    "plt.ylabel(\"Density\", size=14)\n",
    "plt.title(\"Eval\")\n",
    "plt.legend(loc='upper left')\n",
    "\n",
    "\n",
    "mean_diffs = []\n",
    "prev_mean = None\n",
    "for class_mean in mean_list:\n",
    "    if prev_mean == None:\n",
    "        prev_mean = class_mean\n",
    "        continue\n",
    "    else:\n",
    "        mean_diff = class_mean - prev_mean\n",
    "        mean_diffs.append(mean_diff)\n",
    "        prev_mean = class_mean\n",
    "        \n",
    "print(\"mean_diffs: \", mean_diffs)"
   ]
  },
  {
   "cell_type": "code",
   "execution_count": null,
   "id": "hollow-projector",
   "metadata": {},
   "outputs": [],
   "source": []
  },
  {
   "cell_type": "code",
   "execution_count": null,
   "id": "established-fleece",
   "metadata": {},
   "outputs": [],
   "source": []
  },
  {
   "cell_type": "code",
   "execution_count": null,
   "id": "boxed-concrete",
   "metadata": {},
   "outputs": [],
   "source": []
  },
  {
   "cell_type": "code",
   "execution_count": null,
   "id": "valued-press",
   "metadata": {},
   "outputs": [],
   "source": [
    "\n",
    "\n",
    "\n",
    "\n",
    "\n",
    "\n"
   ]
  }
 ],
 "metadata": {
  "kernelspec": {
   "display_name": "Python 3",
   "language": "python",
   "name": "python3"
  },
  "language_info": {
   "codemirror_mode": {
    "name": "ipython",
    "version": 3
   },
   "file_extension": ".py",
   "mimetype": "text/x-python",
   "name": "python",
   "nbconvert_exporter": "python",
   "pygments_lexer": "ipython3",
   "version": "3.8.5"
  }
 },
 "nbformat": 4,
 "nbformat_minor": 5
}
